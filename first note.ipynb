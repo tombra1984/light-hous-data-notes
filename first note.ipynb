{
 "cells": [
  {
   "attachments": {},
   "cell_type": "markdown",
   "metadata": {},
   "source": [
    "#Tombra's notes\n",
    "#This is an H1 header (largest)\n",
    "#####This is an H6 header (smallest)"
   ]
  }
 ],
 "metadata": {
  "language_info": {
   "name": "python"
  },
  "orig_nbformat": 4
 },
 "nbformat": 4,
 "nbformat_minor": 2
}
