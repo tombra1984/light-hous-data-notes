{
 "cells": [
  {
   "attachments": {},
   "cell_type": "markdown",
   "metadata": {},
   "source": [
    "#Tombra's notes\n",
    "#This is an H1 header (largest)\n",
    "#####This is an H6 header (smallest)"
   ]
  },
  {
   "attachments": {},
   "cell_type": "markdown",
   "metadata": {},
   "source": [
    "# Summary\n",
    "This repository contains all of the notes taken by Tombra for the Lighthouse Labs"
   ]
  },
  {
   "attachments": {},
   "cell_type": "markdown",
   "metadata": {},
   "source": [
    "[Link Text](URL)\n",
    "...taken by [Tombra](http://github.com/Tombracodes)for the..."
   ]
  }
 ],
 "metadata": {
  "language_info": {
   "name": "python"
  },
  "orig_nbformat": 4
 },
 "nbformat": 4,
 "nbformat_minor": 2
}
